{
 "cells": [
  {
   "cell_type": "markdown",
   "metadata": {},
   "source": [
    "Load data from http://media.wiley.com/product_ancillary/6X/11186614/DOWNLOAD/ch06.zip, RetailMart.xlsx"
   ]
  },
  {
   "cell_type": "code",
   "execution_count": 43,
   "metadata": {},
   "outputs": [],
   "source": [
    "# code written in py_3.0\n",
    "\n",
    "import pandas as pd\n",
    "import numpy as np"
   ]
  },
  {
   "cell_type": "markdown",
   "metadata": {},
   "source": [
    "Load customer account data - i.e., past product sales data"
   ]
  },
  {
   "cell_type": "code",
   "execution_count": 44,
   "metadata": {},
   "outputs": [
    {
     "name": "stderr",
     "output_type": "stream",
     "text": [
      "C:\\Users\\elror\\anaconda3\\lib\\site-packages\\openpyxl\\worksheet\\_read_only.py:79: UserWarning: Unknown extension is not supported and will be removed\n",
      "  for idx, row in parser.parse():\n"
     ]
    },
    {
     "data": {
      "text/html": [
       "<div>\n",
       "<style scoped>\n",
       "    .dataframe tbody tr th:only-of-type {\n",
       "        vertical-align: middle;\n",
       "    }\n",
       "\n",
       "    .dataframe tbody tr th {\n",
       "        vertical-align: top;\n",
       "    }\n",
       "\n",
       "    .dataframe thead th {\n",
       "        text-align: right;\n",
       "    }\n",
       "</style>\n",
       "<table border=\"1\" class=\"dataframe\">\n",
       "  <thead>\n",
       "    <tr style=\"text-align: right;\">\n",
       "      <th></th>\n",
       "      <th>Implied Gender</th>\n",
       "      <th>Home/Apt/ PO Box</th>\n",
       "      <th>Pregnancy Test</th>\n",
       "      <th>Birth Control</th>\n",
       "      <th>Feminine Hygiene</th>\n",
       "      <th>Folic Acid</th>\n",
       "      <th>Prenatal Vitamins</th>\n",
       "      <th>Prenatal Yoga</th>\n",
       "      <th>Body Pillow</th>\n",
       "      <th>Ginger Ale</th>\n",
       "      <th>Sea Bands</th>\n",
       "      <th>Stopped buying ciggies</th>\n",
       "      <th>Cigarettes</th>\n",
       "      <th>Smoking Cessation</th>\n",
       "      <th>Stopped buying wine</th>\n",
       "      <th>Wine</th>\n",
       "      <th>Maternity Clothes</th>\n",
       "      <th>Unnamed: 17</th>\n",
       "      <th>PREGNANT</th>\n",
       "    </tr>\n",
       "  </thead>\n",
       "  <tbody>\n",
       "    <tr>\n",
       "      <th>0</th>\n",
       "      <td>M</td>\n",
       "      <td>A</td>\n",
       "      <td>1</td>\n",
       "      <td>0</td>\n",
       "      <td>0</td>\n",
       "      <td>0</td>\n",
       "      <td>1</td>\n",
       "      <td>0</td>\n",
       "      <td>0</td>\n",
       "      <td>0</td>\n",
       "      <td>0</td>\n",
       "      <td>0</td>\n",
       "      <td>0</td>\n",
       "      <td>0</td>\n",
       "      <td>0</td>\n",
       "      <td>0</td>\n",
       "      <td>0</td>\n",
       "      <td>NaN</td>\n",
       "      <td>1</td>\n",
       "    </tr>\n",
       "    <tr>\n",
       "      <th>1</th>\n",
       "      <td>M</td>\n",
       "      <td>H</td>\n",
       "      <td>1</td>\n",
       "      <td>0</td>\n",
       "      <td>0</td>\n",
       "      <td>0</td>\n",
       "      <td>1</td>\n",
       "      <td>0</td>\n",
       "      <td>0</td>\n",
       "      <td>0</td>\n",
       "      <td>0</td>\n",
       "      <td>0</td>\n",
       "      <td>0</td>\n",
       "      <td>0</td>\n",
       "      <td>0</td>\n",
       "      <td>0</td>\n",
       "      <td>0</td>\n",
       "      <td>NaN</td>\n",
       "      <td>1</td>\n",
       "    </tr>\n",
       "    <tr>\n",
       "      <th>2</th>\n",
       "      <td>M</td>\n",
       "      <td>H</td>\n",
       "      <td>1</td>\n",
       "      <td>0</td>\n",
       "      <td>0</td>\n",
       "      <td>0</td>\n",
       "      <td>0</td>\n",
       "      <td>0</td>\n",
       "      <td>0</td>\n",
       "      <td>0</td>\n",
       "      <td>1</td>\n",
       "      <td>0</td>\n",
       "      <td>0</td>\n",
       "      <td>0</td>\n",
       "      <td>0</td>\n",
       "      <td>0</td>\n",
       "      <td>0</td>\n",
       "      <td>NaN</td>\n",
       "      <td>1</td>\n",
       "    </tr>\n",
       "    <tr>\n",
       "      <th>3</th>\n",
       "      <td>U</td>\n",
       "      <td>H</td>\n",
       "      <td>0</td>\n",
       "      <td>0</td>\n",
       "      <td>0</td>\n",
       "      <td>0</td>\n",
       "      <td>0</td>\n",
       "      <td>0</td>\n",
       "      <td>0</td>\n",
       "      <td>1</td>\n",
       "      <td>0</td>\n",
       "      <td>0</td>\n",
       "      <td>0</td>\n",
       "      <td>0</td>\n",
       "      <td>0</td>\n",
       "      <td>0</td>\n",
       "      <td>0</td>\n",
       "      <td>NaN</td>\n",
       "      <td>1</td>\n",
       "    </tr>\n",
       "    <tr>\n",
       "      <th>4</th>\n",
       "      <td>F</td>\n",
       "      <td>A</td>\n",
       "      <td>0</td>\n",
       "      <td>0</td>\n",
       "      <td>0</td>\n",
       "      <td>0</td>\n",
       "      <td>0</td>\n",
       "      <td>1</td>\n",
       "      <td>0</td>\n",
       "      <td>0</td>\n",
       "      <td>0</td>\n",
       "      <td>0</td>\n",
       "      <td>0</td>\n",
       "      <td>0</td>\n",
       "      <td>1</td>\n",
       "      <td>0</td>\n",
       "      <td>0</td>\n",
       "      <td>NaN</td>\n",
       "      <td>1</td>\n",
       "    </tr>\n",
       "  </tbody>\n",
       "</table>\n",
       "</div>"
      ],
      "text/plain": [
       "  Implied Gender Home/Apt/ PO Box  Pregnancy Test  Birth Control  \\\n",
       "0              M                A               1              0   \n",
       "1              M                H               1              0   \n",
       "2              M                H               1              0   \n",
       "3              U                H               0              0   \n",
       "4              F                A               0              0   \n",
       "\n",
       "   Feminine Hygiene  Folic Acid  Prenatal Vitamins  Prenatal Yoga  \\\n",
       "0                 0           0                  1              0   \n",
       "1                 0           0                  1              0   \n",
       "2                 0           0                  0              0   \n",
       "3                 0           0                  0              0   \n",
       "4                 0           0                  0              1   \n",
       "\n",
       "   Body Pillow  Ginger Ale  Sea Bands  Stopped buying ciggies  Cigarettes  \\\n",
       "0            0           0          0                       0           0   \n",
       "1            0           0          0                       0           0   \n",
       "2            0           0          1                       0           0   \n",
       "3            0           1          0                       0           0   \n",
       "4            0           0          0                       0           0   \n",
       "\n",
       "   Smoking Cessation  Stopped buying wine  Wine  Maternity Clothes  \\\n",
       "0                  0                    0     0                  0   \n",
       "1                  0                    0     0                  0   \n",
       "2                  0                    0     0                  0   \n",
       "3                  0                    0     0                  0   \n",
       "4                  0                    1     0                  0   \n",
       "\n",
       "   Unnamed: 17  PREGNANT  \n",
       "0          NaN         1  \n",
       "1          NaN         1  \n",
       "2          NaN         1  \n",
       "3          NaN         1  \n",
       "4          NaN         1  "
      ]
     },
     "execution_count": 44,
     "metadata": {},
     "output_type": "execute_result"
    }
   ],
   "source": [
    "# find path to your RetailMart.xlsx\n",
    "file_path = 'data/ch06/RetailMart.xlsx'\n",
    "df_accounts = pd.read_excel(file_path, sheet_name='Training Data')\n",
    "df_accounts.head()"
   ]
  },
  {
   "cell_type": "code",
   "execution_count": 45,
   "metadata": {},
   "outputs": [
    {
     "data": {
      "text/html": [
       "<div>\n",
       "<style scoped>\n",
       "    .dataframe tbody tr th:only-of-type {\n",
       "        vertical-align: middle;\n",
       "    }\n",
       "\n",
       "    .dataframe tbody tr th {\n",
       "        vertical-align: top;\n",
       "    }\n",
       "\n",
       "    .dataframe thead th {\n",
       "        text-align: right;\n",
       "    }\n",
       "</style>\n",
       "<table border=\"1\" class=\"dataframe\">\n",
       "  <thead>\n",
       "    <tr style=\"text-align: right;\">\n",
       "      <th></th>\n",
       "      <th>Implied Gender</th>\n",
       "      <th>Residency</th>\n",
       "      <th>Pregnancy Test</th>\n",
       "      <th>Birth Control</th>\n",
       "      <th>Feminine Hygiene</th>\n",
       "      <th>Folic Acid</th>\n",
       "      <th>Prenatal Vitamins</th>\n",
       "      <th>Prenatal Yoga</th>\n",
       "      <th>Body Pillow</th>\n",
       "      <th>Ginger Ale</th>\n",
       "      <th>Sea Bands</th>\n",
       "      <th>Stopped buying ciggies</th>\n",
       "      <th>Cigarettes</th>\n",
       "      <th>Smoking Cessation</th>\n",
       "      <th>Stopped buying wine</th>\n",
       "      <th>Wine</th>\n",
       "      <th>Maternity Clothes</th>\n",
       "      <th>Pregnant</th>\n",
       "    </tr>\n",
       "  </thead>\n",
       "  <tbody>\n",
       "    <tr>\n",
       "      <th>0</th>\n",
       "      <td>M</td>\n",
       "      <td>A</td>\n",
       "      <td>1</td>\n",
       "      <td>0</td>\n",
       "      <td>0</td>\n",
       "      <td>0</td>\n",
       "      <td>1</td>\n",
       "      <td>0</td>\n",
       "      <td>0</td>\n",
       "      <td>0</td>\n",
       "      <td>0</td>\n",
       "      <td>0</td>\n",
       "      <td>0</td>\n",
       "      <td>0</td>\n",
       "      <td>0</td>\n",
       "      <td>0</td>\n",
       "      <td>0</td>\n",
       "      <td>1</td>\n",
       "    </tr>\n",
       "    <tr>\n",
       "      <th>1</th>\n",
       "      <td>M</td>\n",
       "      <td>H</td>\n",
       "      <td>1</td>\n",
       "      <td>0</td>\n",
       "      <td>0</td>\n",
       "      <td>0</td>\n",
       "      <td>1</td>\n",
       "      <td>0</td>\n",
       "      <td>0</td>\n",
       "      <td>0</td>\n",
       "      <td>0</td>\n",
       "      <td>0</td>\n",
       "      <td>0</td>\n",
       "      <td>0</td>\n",
       "      <td>0</td>\n",
       "      <td>0</td>\n",
       "      <td>0</td>\n",
       "      <td>1</td>\n",
       "    </tr>\n",
       "    <tr>\n",
       "      <th>2</th>\n",
       "      <td>M</td>\n",
       "      <td>H</td>\n",
       "      <td>1</td>\n",
       "      <td>0</td>\n",
       "      <td>0</td>\n",
       "      <td>0</td>\n",
       "      <td>0</td>\n",
       "      <td>0</td>\n",
       "      <td>0</td>\n",
       "      <td>0</td>\n",
       "      <td>1</td>\n",
       "      <td>0</td>\n",
       "      <td>0</td>\n",
       "      <td>0</td>\n",
       "      <td>0</td>\n",
       "      <td>0</td>\n",
       "      <td>0</td>\n",
       "      <td>1</td>\n",
       "    </tr>\n",
       "    <tr>\n",
       "      <th>3</th>\n",
       "      <td>U</td>\n",
       "      <td>H</td>\n",
       "      <td>0</td>\n",
       "      <td>0</td>\n",
       "      <td>0</td>\n",
       "      <td>0</td>\n",
       "      <td>0</td>\n",
       "      <td>0</td>\n",
       "      <td>0</td>\n",
       "      <td>1</td>\n",
       "      <td>0</td>\n",
       "      <td>0</td>\n",
       "      <td>0</td>\n",
       "      <td>0</td>\n",
       "      <td>0</td>\n",
       "      <td>0</td>\n",
       "      <td>0</td>\n",
       "      <td>1</td>\n",
       "    </tr>\n",
       "    <tr>\n",
       "      <th>4</th>\n",
       "      <td>F</td>\n",
       "      <td>A</td>\n",
       "      <td>0</td>\n",
       "      <td>0</td>\n",
       "      <td>0</td>\n",
       "      <td>0</td>\n",
       "      <td>0</td>\n",
       "      <td>1</td>\n",
       "      <td>0</td>\n",
       "      <td>0</td>\n",
       "      <td>0</td>\n",
       "      <td>0</td>\n",
       "      <td>0</td>\n",
       "      <td>0</td>\n",
       "      <td>1</td>\n",
       "      <td>0</td>\n",
       "      <td>0</td>\n",
       "      <td>1</td>\n",
       "    </tr>\n",
       "  </tbody>\n",
       "</table>\n",
       "</div>"
      ],
      "text/plain": [
       "  Implied Gender Residency  Pregnancy Test  Birth Control  Feminine Hygiene  \\\n",
       "0              M         A               1              0                 0   \n",
       "1              M         H               1              0                 0   \n",
       "2              M         H               1              0                 0   \n",
       "3              U         H               0              0                 0   \n",
       "4              F         A               0              0                 0   \n",
       "\n",
       "   Folic Acid  Prenatal Vitamins  Prenatal Yoga  Body Pillow  Ginger Ale  \\\n",
       "0           0                  1              0            0           0   \n",
       "1           0                  1              0            0           0   \n",
       "2           0                  0              0            0           0   \n",
       "3           0                  0              0            0           1   \n",
       "4           0                  0              1            0           0   \n",
       "\n",
       "   Sea Bands  Stopped buying ciggies  Cigarettes  Smoking Cessation  \\\n",
       "0          0                       0           0                  0   \n",
       "1          0                       0           0                  0   \n",
       "2          1                       0           0                  0   \n",
       "3          0                       0           0                  0   \n",
       "4          0                       0           0                  0   \n",
       "\n",
       "   Stopped buying wine  Wine  Maternity Clothes  Pregnant  \n",
       "0                    0     0                  0         1  \n",
       "1                    0     0                  0         1  \n",
       "2                    0     0                  0         1  \n",
       "3                    0     0                  0         1  \n",
       "4                    1     0                  0         1  "
      ]
     },
     "execution_count": 45,
     "metadata": {},
     "output_type": "execute_result"
    }
   ],
   "source": [
    "df_accounts = df_accounts.drop('Unnamed: 17', axis=1) # drop empty col\n",
    "df_accounts.rename(columns={'PREGNANT':'Pregnant', 'Home/Apt/ PO Box':'Residency'}, inplace=True)\n",
    "df_accounts.head()"
   ]
  },
  {
   "cell_type": "code",
   "execution_count": 46,
   "metadata": {
    "scrolled": true
   },
   "outputs": [
    {
     "data": {
      "text/html": [
       "<div>\n",
       "<style scoped>\n",
       "    .dataframe tbody tr th:only-of-type {\n",
       "        vertical-align: middle;\n",
       "    }\n",
       "\n",
       "    .dataframe tbody tr th {\n",
       "        vertical-align: top;\n",
       "    }\n",
       "\n",
       "    .dataframe thead th {\n",
       "        text-align: right;\n",
       "    }\n",
       "</style>\n",
       "<table border=\"1\" class=\"dataframe\">\n",
       "  <thead>\n",
       "    <tr style=\"text-align: right;\">\n",
       "      <th></th>\n",
       "      <th>Implied_Gender</th>\n",
       "      <th>Residency</th>\n",
       "      <th>Pregnancy_Test</th>\n",
       "      <th>Birth_Control</th>\n",
       "      <th>Feminine_Hygiene</th>\n",
       "      <th>Folic_Acid</th>\n",
       "      <th>Prenatal_Vitamins</th>\n",
       "      <th>Prenatal_Yoga</th>\n",
       "      <th>Body_Pillow</th>\n",
       "      <th>Ginger_Ale</th>\n",
       "      <th>Sea_Bands</th>\n",
       "      <th>Stopped_buying_ciggies</th>\n",
       "      <th>Cigarettes</th>\n",
       "      <th>Smoking_Cessation</th>\n",
       "      <th>Stopped_buying_wine</th>\n",
       "      <th>Wine</th>\n",
       "      <th>Maternity_Clothes</th>\n",
       "      <th>Pregnant</th>\n",
       "    </tr>\n",
       "  </thead>\n",
       "  <tbody>\n",
       "    <tr>\n",
       "      <th>0</th>\n",
       "      <td>M</td>\n",
       "      <td>A</td>\n",
       "      <td>1</td>\n",
       "      <td>0</td>\n",
       "      <td>0</td>\n",
       "      <td>0</td>\n",
       "      <td>1</td>\n",
       "      <td>0</td>\n",
       "      <td>0</td>\n",
       "      <td>0</td>\n",
       "      <td>0</td>\n",
       "      <td>0</td>\n",
       "      <td>0</td>\n",
       "      <td>0</td>\n",
       "      <td>0</td>\n",
       "      <td>0</td>\n",
       "      <td>0</td>\n",
       "      <td>1</td>\n",
       "    </tr>\n",
       "    <tr>\n",
       "      <th>1</th>\n",
       "      <td>M</td>\n",
       "      <td>H</td>\n",
       "      <td>1</td>\n",
       "      <td>0</td>\n",
       "      <td>0</td>\n",
       "      <td>0</td>\n",
       "      <td>1</td>\n",
       "      <td>0</td>\n",
       "      <td>0</td>\n",
       "      <td>0</td>\n",
       "      <td>0</td>\n",
       "      <td>0</td>\n",
       "      <td>0</td>\n",
       "      <td>0</td>\n",
       "      <td>0</td>\n",
       "      <td>0</td>\n",
       "      <td>0</td>\n",
       "      <td>1</td>\n",
       "    </tr>\n",
       "    <tr>\n",
       "      <th>2</th>\n",
       "      <td>M</td>\n",
       "      <td>H</td>\n",
       "      <td>1</td>\n",
       "      <td>0</td>\n",
       "      <td>0</td>\n",
       "      <td>0</td>\n",
       "      <td>0</td>\n",
       "      <td>0</td>\n",
       "      <td>0</td>\n",
       "      <td>0</td>\n",
       "      <td>1</td>\n",
       "      <td>0</td>\n",
       "      <td>0</td>\n",
       "      <td>0</td>\n",
       "      <td>0</td>\n",
       "      <td>0</td>\n",
       "      <td>0</td>\n",
       "      <td>1</td>\n",
       "    </tr>\n",
       "    <tr>\n",
       "      <th>3</th>\n",
       "      <td>U</td>\n",
       "      <td>H</td>\n",
       "      <td>0</td>\n",
       "      <td>0</td>\n",
       "      <td>0</td>\n",
       "      <td>0</td>\n",
       "      <td>0</td>\n",
       "      <td>0</td>\n",
       "      <td>0</td>\n",
       "      <td>1</td>\n",
       "      <td>0</td>\n",
       "      <td>0</td>\n",
       "      <td>0</td>\n",
       "      <td>0</td>\n",
       "      <td>0</td>\n",
       "      <td>0</td>\n",
       "      <td>0</td>\n",
       "      <td>1</td>\n",
       "    </tr>\n",
       "    <tr>\n",
       "      <th>4</th>\n",
       "      <td>F</td>\n",
       "      <td>A</td>\n",
       "      <td>0</td>\n",
       "      <td>0</td>\n",
       "      <td>0</td>\n",
       "      <td>0</td>\n",
       "      <td>0</td>\n",
       "      <td>1</td>\n",
       "      <td>0</td>\n",
       "      <td>0</td>\n",
       "      <td>0</td>\n",
       "      <td>0</td>\n",
       "      <td>0</td>\n",
       "      <td>0</td>\n",
       "      <td>1</td>\n",
       "      <td>0</td>\n",
       "      <td>0</td>\n",
       "      <td>1</td>\n",
       "    </tr>\n",
       "  </tbody>\n",
       "</table>\n",
       "</div>"
      ],
      "text/plain": [
       "  Implied_Gender Residency  Pregnancy_Test  Birth_Control  Feminine_Hygiene  \\\n",
       "0              M         A               1              0                 0   \n",
       "1              M         H               1              0                 0   \n",
       "2              M         H               1              0                 0   \n",
       "3              U         H               0              0                 0   \n",
       "4              F         A               0              0                 0   \n",
       "\n",
       "   Folic_Acid  Prenatal_Vitamins  Prenatal_Yoga  Body_Pillow  Ginger_Ale  \\\n",
       "0           0                  1              0            0           0   \n",
       "1           0                  1              0            0           0   \n",
       "2           0                  0              0            0           0   \n",
       "3           0                  0              0            0           1   \n",
       "4           0                  0              1            0           0   \n",
       "\n",
       "   Sea_Bands  Stopped_buying_ciggies  Cigarettes  Smoking_Cessation  \\\n",
       "0          0                       0           0                  0   \n",
       "1          0                       0           0                  0   \n",
       "2          1                       0           0                  0   \n",
       "3          0                       0           0                  0   \n",
       "4          0                       0           0                  0   \n",
       "\n",
       "   Stopped_buying_wine  Wine  Maternity_Clothes  Pregnant  \n",
       "0                    0     0                  0         1  \n",
       "1                    0     0                  0         1  \n",
       "2                    0     0                  0         1  \n",
       "3                    0     0                  0         1  \n",
       "4                    1     0                  0         1  "
      ]
     },
     "execution_count": 46,
     "metadata": {},
     "output_type": "execute_result"
    }
   ],
   "source": [
    "#df_accounts.columns = [x.strip().replace(' ', '_') for x in df_accounts.columns] # python does not like spaces in var names\n",
    "df_accounts = df_accounts.rename(columns=lambda x: x.strip().replace(' ', '_'))\n",
    "df_accounts.head()"
   ]
  },
  {
   "cell_type": "markdown",
   "metadata": {},
   "source": [
    "We need to categorise the 'Pregnant' column so that it can only take on one of two (in this case) possabilities. Here 1 = pregnant, and 0 = not pregnant"
   ]
  },
  {
   "cell_type": "code",
   "execution_count": 47,
   "metadata": {},
   "outputs": [
    {
     "data": {
      "text/plain": [
       "array([1, 0], dtype=int64)"
      ]
     },
     "execution_count": 47,
     "metadata": {},
     "output_type": "execute_result"
    }
   ],
   "source": [
    "df_accounts['Pregnant'].unique()"
   ]
  },
  {
   "cell_type": "code",
   "execution_count": 48,
   "metadata": {},
   "outputs": [],
   "source": [
    "#타입을 바꾸는 건데, asssign 구문은 마치 값을 넣는 거 같네.. \n",
    "df_accounts['Pregnant'] = df_accounts['Pregnant'].astype('bool') "
   ]
  },
  {
   "cell_type": "markdown",
   "metadata": {},
   "source": [
    "Following Greg Lamp over at the Yhat Blog (see [here](http://blog.yhat.com/posts/logistic-regression-python-rodeo.html)), we need to 'dummify' (i.e., separate out) the catagorical variables: gender and residency"
   ]
  },
  {
   "cell_type": "code",
   "execution_count": 49,
   "metadata": {},
   "outputs": [
    {
     "name": "stdout",
     "output_type": "stream",
     "text": [
      "   Gender_F  Gender_M  Gender_U\n",
      "0         0         1         0\n",
      "1         0         1         0\n",
      "2         0         1         0\n",
      "3         0         0         1\n",
      "4         1         0         0\n"
     ]
    }
   ],
   "source": [
    "# dummify gender var\n",
    "dummy_gender = pd.get_dummies(df_accounts['Implied_Gender'], prefix='Gender')\n",
    "print(dummy_gender.head())"
   ]
  },
  {
   "cell_type": "code",
   "execution_count": 50,
   "metadata": {},
   "outputs": [
    {
     "name": "stdout",
     "output_type": "stream",
     "text": [
      "   Resident_A  Resident_H  Resident_P\n",
      "0           1           0           0\n",
      "1           0           1           0\n",
      "2           0           1           0\n",
      "3           0           1           0\n",
      "4           1           0           0\n"
     ]
    }
   ],
   "source": [
    "# dummify residency var\n",
    "dummy_resident = pd.get_dummies(df_accounts['Residency'], prefix='Resident')\n",
    "print(dummy_resident.head())"
   ]
  },
  {
   "cell_type": "code",
   "execution_count": 51,
   "metadata": {},
   "outputs": [
    {
     "data": {
      "text/html": [
       "<div>\n",
       "<style scoped>\n",
       "    .dataframe tbody tr th:only-of-type {\n",
       "        vertical-align: middle;\n",
       "    }\n",
       "\n",
       "    .dataframe tbody tr th {\n",
       "        vertical-align: top;\n",
       "    }\n",
       "\n",
       "    .dataframe thead th {\n",
       "        text-align: right;\n",
       "    }\n",
       "</style>\n",
       "<table border=\"1\" class=\"dataframe\">\n",
       "  <thead>\n",
       "    <tr style=\"text-align: right;\">\n",
       "      <th></th>\n",
       "      <th>Intercept</th>\n",
       "      <th>Gender_M</th>\n",
       "      <th>Gender_U</th>\n",
       "      <th>Resident_H</th>\n",
       "      <th>Resident_P</th>\n",
       "      <th>Pregnancy_Test</th>\n",
       "      <th>Birth_Control</th>\n",
       "      <th>Feminine_Hygiene</th>\n",
       "      <th>Folic_Acid</th>\n",
       "      <th>Prenatal_Vitamins</th>\n",
       "      <th>...</th>\n",
       "      <th>Body_Pillow</th>\n",
       "      <th>Ginger_Ale</th>\n",
       "      <th>Sea_Bands</th>\n",
       "      <th>Stopped_buying_ciggies</th>\n",
       "      <th>Cigarettes</th>\n",
       "      <th>Smoking_Cessation</th>\n",
       "      <th>Stopped_buying_wine</th>\n",
       "      <th>Wine</th>\n",
       "      <th>Maternity_Clothes</th>\n",
       "      <th>Pregnant</th>\n",
       "    </tr>\n",
       "  </thead>\n",
       "  <tbody>\n",
       "    <tr>\n",
       "      <th>0</th>\n",
       "      <td>1.0</td>\n",
       "      <td>1</td>\n",
       "      <td>0</td>\n",
       "      <td>0</td>\n",
       "      <td>0</td>\n",
       "      <td>1</td>\n",
       "      <td>0</td>\n",
       "      <td>0</td>\n",
       "      <td>0</td>\n",
       "      <td>1</td>\n",
       "      <td>...</td>\n",
       "      <td>0</td>\n",
       "      <td>0</td>\n",
       "      <td>0</td>\n",
       "      <td>0</td>\n",
       "      <td>0</td>\n",
       "      <td>0</td>\n",
       "      <td>0</td>\n",
       "      <td>0</td>\n",
       "      <td>0</td>\n",
       "      <td>True</td>\n",
       "    </tr>\n",
       "    <tr>\n",
       "      <th>1</th>\n",
       "      <td>1.0</td>\n",
       "      <td>1</td>\n",
       "      <td>0</td>\n",
       "      <td>1</td>\n",
       "      <td>0</td>\n",
       "      <td>1</td>\n",
       "      <td>0</td>\n",
       "      <td>0</td>\n",
       "      <td>0</td>\n",
       "      <td>1</td>\n",
       "      <td>...</td>\n",
       "      <td>0</td>\n",
       "      <td>0</td>\n",
       "      <td>0</td>\n",
       "      <td>0</td>\n",
       "      <td>0</td>\n",
       "      <td>0</td>\n",
       "      <td>0</td>\n",
       "      <td>0</td>\n",
       "      <td>0</td>\n",
       "      <td>True</td>\n",
       "    </tr>\n",
       "    <tr>\n",
       "      <th>2</th>\n",
       "      <td>1.0</td>\n",
       "      <td>1</td>\n",
       "      <td>0</td>\n",
       "      <td>1</td>\n",
       "      <td>0</td>\n",
       "      <td>1</td>\n",
       "      <td>0</td>\n",
       "      <td>0</td>\n",
       "      <td>0</td>\n",
       "      <td>0</td>\n",
       "      <td>...</td>\n",
       "      <td>0</td>\n",
       "      <td>0</td>\n",
       "      <td>1</td>\n",
       "      <td>0</td>\n",
       "      <td>0</td>\n",
       "      <td>0</td>\n",
       "      <td>0</td>\n",
       "      <td>0</td>\n",
       "      <td>0</td>\n",
       "      <td>True</td>\n",
       "    </tr>\n",
       "    <tr>\n",
       "      <th>3</th>\n",
       "      <td>1.0</td>\n",
       "      <td>0</td>\n",
       "      <td>1</td>\n",
       "      <td>1</td>\n",
       "      <td>0</td>\n",
       "      <td>0</td>\n",
       "      <td>0</td>\n",
       "      <td>0</td>\n",
       "      <td>0</td>\n",
       "      <td>0</td>\n",
       "      <td>...</td>\n",
       "      <td>0</td>\n",
       "      <td>1</td>\n",
       "      <td>0</td>\n",
       "      <td>0</td>\n",
       "      <td>0</td>\n",
       "      <td>0</td>\n",
       "      <td>0</td>\n",
       "      <td>0</td>\n",
       "      <td>0</td>\n",
       "      <td>True</td>\n",
       "    </tr>\n",
       "    <tr>\n",
       "      <th>4</th>\n",
       "      <td>1.0</td>\n",
       "      <td>0</td>\n",
       "      <td>0</td>\n",
       "      <td>0</td>\n",
       "      <td>0</td>\n",
       "      <td>0</td>\n",
       "      <td>0</td>\n",
       "      <td>0</td>\n",
       "      <td>0</td>\n",
       "      <td>0</td>\n",
       "      <td>...</td>\n",
       "      <td>0</td>\n",
       "      <td>0</td>\n",
       "      <td>0</td>\n",
       "      <td>0</td>\n",
       "      <td>0</td>\n",
       "      <td>0</td>\n",
       "      <td>1</td>\n",
       "      <td>0</td>\n",
       "      <td>0</td>\n",
       "      <td>True</td>\n",
       "    </tr>\n",
       "  </tbody>\n",
       "</table>\n",
       "<p>5 rows × 21 columns</p>\n",
       "</div>"
      ],
      "text/plain": [
       "   Intercept  Gender_M  Gender_U  Resident_H  Resident_P  Pregnancy_Test  \\\n",
       "0        1.0         1         0           0           0               1   \n",
       "1        1.0         1         0           1           0               1   \n",
       "2        1.0         1         0           1           0               1   \n",
       "3        1.0         0         1           1           0               0   \n",
       "4        1.0         0         0           0           0               0   \n",
       "\n",
       "   Birth_Control  Feminine_Hygiene  Folic_Acid  Prenatal_Vitamins  ...  \\\n",
       "0              0                 0           0                  1  ...   \n",
       "1              0                 0           0                  1  ...   \n",
       "2              0                 0           0                  0  ...   \n",
       "3              0                 0           0                  0  ...   \n",
       "4              0                 0           0                  0  ...   \n",
       "\n",
       "   Body_Pillow  Ginger_Ale  Sea_Bands  Stopped_buying_ciggies  Cigarettes  \\\n",
       "0            0           0          0                       0           0   \n",
       "1            0           0          0                       0           0   \n",
       "2            0           0          1                       0           0   \n",
       "3            0           1          0                       0           0   \n",
       "4            0           0          0                       0           0   \n",
       "\n",
       "   Smoking_Cessation  Stopped_buying_wine  Wine  Maternity_Clothes  Pregnant  \n",
       "0                  0                    0     0                  0      True  \n",
       "1                  0                    0     0                  0      True  \n",
       "2                  0                    0     0                  0      True  \n",
       "3                  0                    0     0                  0      True  \n",
       "4                  0                    1     0                  0      True  \n",
       "\n",
       "[5 rows x 21 columns]"
      ]
     },
     "execution_count": 51,
     "metadata": {},
     "output_type": "execute_result"
    }
   ],
   "source": [
    "#['Implied_Gender', 'Residency']를 drop하지 않으면? logistic회귀분석 로직 내부에서 오류를 뱉는다.\n",
    "#이 변수들의 타입이 numeric이 아니기 때문이다.\n",
    "data = pd.concat([dummy_gender[['Gender_M', 'Gender_U']], dummy_resident[['Resident_H', 'Resident_P']], df_accounts.drop(columns=['Implied_Gender', 'Residency'])], axis=1)\n",
    "data.insert(0, 'Intercept', 1.0) # manually add the intercept\n",
    "data.head()"
   ]
  },
  {
   "cell_type": "code",
   "execution_count": 52,
   "metadata": {
    "scrolled": true
   },
   "outputs": [
    {
     "name": "stdout",
     "output_type": "stream",
     "text": [
      "<class 'pandas.core.frame.DataFrame'>\n",
      "RangeIndex: 1000 entries, 0 to 999\n",
      "Data columns (total 21 columns):\n",
      " #   Column                  Non-Null Count  Dtype  \n",
      "---  ------                  --------------  -----  \n",
      " 0   Intercept               1000 non-null   float64\n",
      " 1   Gender_M                1000 non-null   uint8  \n",
      " 2   Gender_U                1000 non-null   uint8  \n",
      " 3   Resident_H              1000 non-null   uint8  \n",
      " 4   Resident_P              1000 non-null   uint8  \n",
      " 5   Pregnancy_Test          1000 non-null   int64  \n",
      " 6   Birth_Control           1000 non-null   int64  \n",
      " 7   Feminine_Hygiene        1000 non-null   int64  \n",
      " 8   Folic_Acid              1000 non-null   int64  \n",
      " 9   Prenatal_Vitamins       1000 non-null   int64  \n",
      " 10  Prenatal_Yoga           1000 non-null   int64  \n",
      " 11  Body_Pillow             1000 non-null   int64  \n",
      " 12  Ginger_Ale              1000 non-null   int64  \n",
      " 13  Sea_Bands               1000 non-null   int64  \n",
      " 14  Stopped_buying_ciggies  1000 non-null   int64  \n",
      " 15  Cigarettes              1000 non-null   int64  \n",
      " 16  Smoking_Cessation       1000 non-null   int64  \n",
      " 17  Stopped_buying_wine     1000 non-null   int64  \n",
      " 18  Wine                    1000 non-null   int64  \n",
      " 19  Maternity_Clothes       1000 non-null   int64  \n",
      " 20  Pregnant                1000 non-null   bool   \n",
      "dtypes: bool(1), float64(1), int64(15), uint8(4)\n",
      "memory usage: 130.0 KB\n"
     ]
    }
   ],
   "source": [
    "data.info()"
   ]
  },
  {
   "cell_type": "code",
   "execution_count": 68,
   "metadata": {
    "scrolled": true
   },
   "outputs": [],
   "source": [
    "# define X and y\n",
    "train_cols = data.columns[1:-1] #Intercept와 Pregnent 모두 빼줘야 함.\n",
    "#train_cols = data.columns[:-1] #특히, Logistic과 달리 Intercept를 빼주지 않으면, f-regression으로 검증시 오류가 생김.\n",
    "\n",
    "X = data[train_cols]\n",
    "y = data['Pregnant']\n",
    "\n",
    "# train/test split\n",
    "from sklearn.model_selection import train_test_split\n",
    "X_train, X_test, y_train, y_test = train_test_split(X, y, random_state=1)\n",
    "\n",
    "# train(fitb) a logistic regression model\n",
    "from sklearn.linear_model import LinearRegression\n",
    "lm = LinearRegression()\n",
    "lm.fit(X_train, y_train)"
   ]
  },
  {
   "cell_type": "code",
   "execution_count": 82,
   "metadata": {
    "scrolled": false
   },
   "outputs": [
    {
     "data": {
      "text/plain": [
       "(array([-0.07338321,  0.02223572, -0.02137823,  0.02119494,  0.20345846,\n",
       "        -0.27803218, -0.23814387,  0.32946004,  0.29409627,  0.29335124,\n",
       "         0.13169658,  0.20701709,  0.1473972 ,  0.16548575, -0.17127013,\n",
       "         0.20037893,  0.19975101, -0.19381337,  0.20644635]),\n",
       " 0.4568742032509519)"
      ]
     },
     "execution_count": 82,
     "metadata": {},
     "output_type": "execute_result"
    }
   ],
   "source": [
    "lm.coef_, lm.intercept_"
   ]
  },
  {
   "cell_type": "code",
   "execution_count": 77,
   "metadata": {
    "scrolled": false
   },
   "outputs": [
    {
     "data": {
      "text/plain": [
       "0.4561602474093953"
      ]
     },
     "execution_count": 77,
     "metadata": {},
     "output_type": "execute_result"
    }
   ],
   "source": [
    "lm.score(X, y) # R-squared"
   ]
  },
  {
   "cell_type": "code",
   "execution_count": 99,
   "metadata": {},
   "outputs": [
    {
     "name": "stdout",
     "output_type": "stream",
     "text": [
      "F-values: [1.27288404e+01 1.54462597e+00 6.39129043e-02 4.77900685e-02\n",
      " 6.05611412e+01 9.43960871e+01 6.33093051e+01 1.23081935e+02\n",
      " 8.98200000e+01 1.46663605e+01 5.67819754e+00 2.95768873e+01\n",
      " 1.12368641e+01 4.18758669e+01 3.30657687e+01 3.89022180e+01\n",
      " 6.30833271e+01 6.80836387e+01 7.82928627e+01]\n",
      "p-values: [3.77171910e-04 2.14222466e-01 8.00467089e-01 8.26999027e-01\n",
      " 1.77633649e-14 2.20777609e-21 4.77368221e-15 4.73843495e-27\n",
      " 1.83373669e-20 1.36318197e-04 1.73633424e-02 6.75927582e-08\n",
      " 8.31986172e-04 1.52177268e-10 1.18363917e-08 6.57080940e-10\n",
      " 5.31752112e-15 4.91794842e-16 3.97045671e-18]\n"
     ]
    }
   ],
   "source": [
    "from sklearn.feature_selection import f_regression\n",
    "\n",
    "# Calculate the F-values and p-values for each predictor variable\n",
    "f_statistic, p_values = f_regression(X, y)\n",
    "\n",
    "print(f'F-values: {f_statistic}')\n",
    "print(f'p-values: {p_values}')"
   ]
  },
  {
   "cell_type": "code",
   "execution_count": 101,
   "metadata": {},
   "outputs": [
    {
     "data": {
      "text/plain": [
       "array([False,  True,  True,  True, False, False, False, False, False,\n",
       "       False, False, False, False, False, False, False, False, False,\n",
       "       False])"
      ]
     },
     "execution_count": 101,
     "metadata": {},
     "output_type": "execute_result"
    }
   ],
   "source": [
    "p_values >= 0.05"
   ]
  },
  {
   "cell_type": "code",
   "execution_count": 54,
   "metadata": {},
   "outputs": [],
   "source": [
    "# make predictions for testing set\n",
    "y_pred = lm.predict(X_test)"
   ]
  },
  {
   "cell_type": "code",
   "execution_count": 67,
   "metadata": {
    "scrolled": true
   },
   "outputs": [
    {
     "data": {
      "text/plain": [
       "array([ 0.10545881,  0.52759851,  0.63895444,  0.75097048,  0.4568742 ,\n",
       "        0.12665375,  0.66332055, -0.23842975,  0.85705855,  1.4986664 ,\n",
       "        0.43549598,  0.43549598,  0.14534712,  0.66332055,  0.38349099,\n",
       "        0.36211276,  0.79587462,  0.7076369 ,  0.38349099,  1.46749014,\n",
       "        0.18967762,  0.63587491,  0.43549598,  0.10545881,  0.44514107,\n",
       "        0.46211182,  0.95798756,  0.24679504,  0.98608525,  0.78633424,\n",
       "        0.19084263,  0.07041248,  0.24168261,  0.66332055,  0.78968835,\n",
       "        0.75097048,  0.80752919,  0.75097048,  0.43549598,  0.42075003,\n",
       "        0.26306084,  0.4568742 ,  0.75097048,  0.69300009,  0.38349099,\n",
       "        0.40468593,  0.21222086,  0.53088819,  1.04282402,  0.38349099,\n",
       "        0.24956633,  0.82211096,  0.60427141,  0.36211276,  0.76831012,\n",
       "        1.16816548,  0.39005655,  0.26306084,  0.72959225,  0.47806915,\n",
       "        0.66332055,  0.4568742 ,  0.82016339,  0.43549598,  0.40716836,\n",
       "        0.4577317 ,  0.75097048,  0.38349099,  0.1239689 ,  0.80799881,\n",
       "        0.21087257,  1.15705072,  0.64251306,  0.28560407,  0.67045459,\n",
       "        0.7155665 ,  0.80752919,  0.37922095,  0.86054379,  0.36211276,\n",
       "        0.50830206,  0.4568742 ,  0.47007792,  0.4577317 , -0.01411385,\n",
       "        0.66474878,  0.61081554,  0.38349099,  0.26306084,  0.583242  ,\n",
       "        0.42854659,  0.7755762 , -0.20937703, -0.06984447,  0.38349099,\n",
       "        0.43549598, -0.04461638,  0.43549598,  1.306457  ,  0.63524699,\n",
       "        0.68555627,  1.00894889,  0.28425578,  0.9137683 ,  0.75097048,\n",
       "       -0.10973278,  0.91235322,  0.24096606,  0.59066243,  0.00757189,\n",
       "        0.75182797,  0.43549598, -0.2076197 ,  0.75021007,  0.43549598,\n",
       "        0.64459567,  0.47806915,  0.4568742 ,  0.38585911,  0.20107774,\n",
       "        1.07674046,  0.95225734,  0.66474878,  0.65725313,  0.43549598,\n",
       "        0.38349099,  0.36211276,  0.38349099,  0.15513463, -0.2519502 ,\n",
       "        0.62235995,  1.25979744,  0.10545881,  0.71296843,  0.1239689 ,\n",
       "       -0.08835456,  0.28916037,  0.01840749,  0.67758726, -0.06984447,\n",
       "        0.56912985,  1.14231065, -0.02592301,  0.28560407,  0.76950878,\n",
       "        0.36211276,  0.19084263,  0.36211276,  0.1239689 ,  0.26391833,\n",
       "        0.24168261,  0.43967629,  0.64251306,  0.56366115,  0.57017168,\n",
       "        0.26422584,  0.21222086,  0.07041248,  0.84226407,  0.61113228,\n",
       "        1.34343461,  0.43549598,  0.47910992,  0.1239689 ,  0.00353874,\n",
       "        0.78790562,  0.95741682,  0.4568742 ,  0.30891727,  0.47480716,\n",
       "        0.52030267,  0.655464  ,  0.52759851,  0.97140236,  0.19735211,\n",
       "        0.72959225,  0.4568742 ,  0.24168261,  0.4568742 , -0.18624148,\n",
       "        0.64194232,  0.91270204,  0.1682994 ,  0.43549598,  0.18967762,\n",
       "        0.63524699,  0.76495602,  0.60443694,  0.36211276,  0.65662521,\n",
       "        0.36211276,  0.43549598,  0.43549598,  0.20003696,  0.00757189,\n",
       "        0.8636423 ,  0.19735211,  0.21873034,  0.1574638 ,  0.47910992,\n",
       "        0.8596675 ,  0.2713661 ,  0.47806915,  0.80752919,  0.17884202,\n",
       "        0.36211276,  1.06184381,  0.93044177,  0.83933337,  0.38349099,\n",
       "        0.47910992,  0.67886093,  0.36211276,  0.4676843 ,  0.17884202,\n",
       "        0.54897674,  1.01397553,  0.72959225,  0.41848135,  0.84169333,\n",
       "        0.63524699, -0.04730124,  0.63524699, -0.19854143,  0.36211276,\n",
       "        0.36211276,  0.84540078,  0.36211276,  0.1682994 ,  0.36211276,\n",
       "        0.655464  ,  0.7622427 , -0.15406328,  0.98608525,  0.23136332,\n",
       "        0.38349099,  0.71295103,  0.43549598,  1.10162546,  1.00111167,\n",
       "       -0.10973278,  1.65639181,  0.58694945,  0.10545881,  0.21958783,\n",
       "        0.66332055,  0.00757189,  0.52759851,  0.36211276,  0.63587491])"
      ]
     },
     "execution_count": 67,
     "metadata": {},
     "output_type": "execute_result"
    }
   ],
   "source": [
    "y_pred"
   ]
  },
  {
   "cell_type": "code",
   "execution_count": 55,
   "metadata": {},
   "outputs": [
    {
     "name": "stdout",
     "output_type": "stream",
     "text": [
      "Mean Squared Error: 0.12533913204126618\n"
     ]
    }
   ],
   "source": [
    "# Evaluate the performance of the model\n",
    "\n",
    "from sklearn.metrics import mean_squared_error\n",
    "\n",
    "mse = mean_squared_error(y_test, y_pred)\n",
    "print(\"Mean Squared Error:\", mse)"
   ]
  },
  {
   "cell_type": "markdown",
   "metadata": {},
   "source": [
    "R-square, F test, t test는 어떻게 하나?\n",
    "LogisticRegression"
   ]
  },
  {
   "cell_type": "code",
   "execution_count": 56,
   "metadata": {},
   "outputs": [
    {
     "name": "stdout",
     "output_type": "stream",
     "text": [
      "R2 Score: 0.49812955650079194\n"
     ]
    }
   ],
   "source": [
    "from sklearn.metrics import r2_score\n",
    "\n",
    "r2 = r2_score(y_test, y_pred)\n",
    "print(\"R2 Score:\", r2)"
   ]
  },
  {
   "cell_type": "code",
   "execution_count": 57,
   "metadata": {
    "scrolled": true
   },
   "outputs": [
    {
     "name": "stdout",
     "output_type": "stream",
     "text": [
      "F-value: [6.53490061e+00 1.10995652e+00 1.88720965e-02 1.87557326e-01\n",
      " 4.67784079e+01 7.26352844e+01 5.24731711e+01 9.19083955e+01\n",
      " 6.53261607e+01 8.32395953e+00 2.92401702e+00 1.64800856e+01\n",
      " 1.07958455e+01 3.36314537e+01 1.72415052e+01 2.83204586e+01\n",
      " 5.31190027e+01 4.20434922e+01 5.21517226e+01]\n",
      "p-value: [1.07742609e-02 2.92431597e-01 8.90770767e-01 6.65082307e-01\n",
      " 1.65311606e-11 8.56252175e-17 1.08681299e-12 1.30963285e-20\n",
      " 2.54813209e-15 4.02509739e-03 8.76850668e-02 5.43417163e-05\n",
      " 1.06470225e-03 9.82582788e-09 3.67081580e-05 1.35996251e-07\n",
      " 7.99412816e-13 1.62102505e-10 1.26646844e-12]\n"
     ]
    }
   ],
   "source": [
    "from sklearn.feature_selection import f_regression\n",
    "\n",
    "f_value, p_value = f_regression(X_train, y_train)\n",
    "\n",
    "print(\"F-value:\", f_value)\n",
    "print(\"p-value:\", p_value)"
   ]
  },
  {
   "cell_type": "code",
   "execution_count": 58,
   "metadata": {
    "scrolled": true
   },
   "outputs": [
    {
     "name": "stdout",
     "output_type": "stream",
     "text": [
      "T-values: Gender_M                 -0.400566\n",
      "Gender_U                  0.188651\n",
      "Resident_H               -0.114449\n",
      "Resident_P                0.202985\n",
      "Pregnancy_Test            2.006595\n",
      "Birth_Control            -2.152515\n",
      "Feminine_Hygiene         -1.794368\n",
      "Folic_Acid                2.871521\n",
      "Prenatal_Vitamins         2.324693\n",
      "Prenatal_Yoga             6.255373\n",
      "Body_Pillow               2.808276\n",
      "Ginger_Ale                2.220528\n",
      "Sea_Bands                 2.240781\n",
      "Stopped_buying_ciggies    1.522093\n",
      "Cigarettes               -1.575296\n",
      "Smoking_Cessation         2.358420\n",
      "Stopped_buying_wine       1.565633\n",
      "Wine                     -1.603512\n",
      "Maternity_Clothes         1.604799\n",
      "dtype: float64\n"
     ]
    }
   ],
   "source": [
    "t_values = lm.coef_ / np.sqrt(np.mean((y_train - lm.predict(X_train)) ** 2)) / np.sqrt(np.var(X_train, ddof=1, axis=0))\n",
    "\n",
    "print(\"T-values:\", t_values)"
   ]
  },
  {
   "cell_type": "code",
   "execution_count": 60,
   "metadata": {},
   "outputs": [
    {
     "data": {
      "image/png": "[encoded data removed]",
      "text/plain": [
       "<Figure size 640x480 with 1 Axes>"
      ]
     },
     "metadata": {},
     "output_type": "display_data"
    }
   ],
   "source": [
    "# get values for ROC curve\n",
    "fpr, tpr, thresholds = metrics.roc_curve(y_test, y_pred)\n",
    "\n",
    "# plot ROC curve\n",
    "import matplotlib.pyplot as plt\n",
    "plt.plot(fpr, tpr)\n",
    "plt.xlim([0.0, 1.0])\n",
    "plt.ylim([0.0, 1.0])\n",
    "plt.xlabel('False Positive Rate (1 - Specificity)')\n",
    "plt.ylabel('True Positive Rate (Sensitivity)')\n",
    "plt.show()"
   ]
  },
  {
   "cell_type": "code",
   "execution_count": 62,
   "metadata": {},
   "outputs": [
    {
     "name": "stdout",
     "output_type": "stream",
     "text": [
      "0.9423409571401115\n"
     ]
    }
   ],
   "source": [
    "# calculate AUC\n",
    "print(metrics.roc_auc_score(y_test, y_pred))"
   ]
  },
  {
   "cell_type": "code",
   "execution_count": 63,
   "metadata": {},
   "outputs": [
    {
     "data": {
      "image/png": "[encoded data removed]",
      "text/plain": [
       "<Figure size 640x480 with 2 Axes>"
      ]
     },
     "metadata": {},
     "output_type": "display_data"
    }
   ],
   "source": [
    "# histogram of predicted probabilities grouped by actual response value\n",
    "df = pd.DataFrame({'probability':y_pred, 'actual':y_test})\n",
    "df.hist(column='probability', by='actual', sharex=True, sharey=True)\n",
    "plt.show()"
   ]
  },
  {
   "cell_type": "code",
   "execution_count": 64,
   "metadata": {
    "scrolled": true
   },
   "outputs": [
    {
     "name": "stderr",
     "output_type": "stream",
     "text": [
      "C:\\Users\\elror\\anaconda3\\lib\\site-packages\\sklearn\\model_selection\\_validation.py:770: UserWarning: Scoring failed. The score on this train-test partition for these parameters will be set to nan. Details: \n",
      "Traceback (most recent call last):\n",
      "  File \"C:\\Users\\elror\\anaconda3\\lib\\site-packages\\sklearn\\model_selection\\_validation.py\", line 761, in _score\n",
      "    scores = scorer(estimator, X_test, y_test)\n",
      "  File \"C:\\Users\\elror\\anaconda3\\lib\\site-packages\\sklearn\\metrics\\_scorer.py\", line 103, in __call__\n",
      "    score = scorer._score(cached_call, estimator, *args, **kwargs)\n",
      "  File \"C:\\Users\\elror\\anaconda3\\lib\\site-packages\\sklearn\\metrics\\_scorer.py\", line 381, in _score\n",
      "    return self._sign * self._score_func(y, y_pred, **self._kwargs)\n",
      "  File \"C:\\Users\\elror\\anaconda3\\lib\\site-packages\\sklearn\\metrics\\_ranking.py\", line 567, in roc_auc_score\n",
      "    return _average_binary_score(\n",
      "  File \"C:\\Users\\elror\\anaconda3\\lib\\site-packages\\sklearn\\metrics\\_base.py\", line 75, in _average_binary_score\n",
      "    return binary_metric(y_true, y_score, sample_weight=sample_weight)\n",
      "  File \"C:\\Users\\elror\\anaconda3\\lib\\site-packages\\sklearn\\metrics\\_ranking.py\", line 337, in _binary_roc_auc_score\n",
      "    raise ValueError(\n",
      "ValueError: Only one class present in y_true. ROC AUC score is not defined in that case.\n",
      "\n",
      "  warnings.warn(\n",
      "C:\\Users\\elror\\anaconda3\\lib\\site-packages\\sklearn\\model_selection\\_validation.py:770: UserWarning: Scoring failed. The score on this train-test partition for these parameters will be set to nan. Details: \n",
      "Traceback (most recent call last):\n",
      "  File \"C:\\Users\\elror\\anaconda3\\lib\\site-packages\\sklearn\\model_selection\\_validation.py\", line 761, in _score\n",
      "    scores = scorer(estimator, X_test, y_test)\n",
      "  File \"C:\\Users\\elror\\anaconda3\\lib\\site-packages\\sklearn\\metrics\\_scorer.py\", line 103, in __call__\n",
      "    score = scorer._score(cached_call, estimator, *args, **kwargs)\n",
      "  File \"C:\\Users\\elror\\anaconda3\\lib\\site-packages\\sklearn\\metrics\\_scorer.py\", line 381, in _score\n",
      "    return self._sign * self._score_func(y, y_pred, **self._kwargs)\n",
      "  File \"C:\\Users\\elror\\anaconda3\\lib\\site-packages\\sklearn\\metrics\\_ranking.py\", line 567, in roc_auc_score\n",
      "    return _average_binary_score(\n",
      "  File \"C:\\Users\\elror\\anaconda3\\lib\\site-packages\\sklearn\\metrics\\_base.py\", line 75, in _average_binary_score\n",
      "    return binary_metric(y_true, y_score, sample_weight=sample_weight)\n",
      "  File \"C:\\Users\\elror\\anaconda3\\lib\\site-packages\\sklearn\\metrics\\_ranking.py\", line 337, in _binary_roc_auc_score\n",
      "    raise ValueError(\n",
      "ValueError: Only one class present in y_true. ROC AUC score is not defined in that case.\n",
      "\n",
      "  warnings.warn(\n",
      "C:\\Users\\elror\\anaconda3\\lib\\site-packages\\sklearn\\model_selection\\_validation.py:770: UserWarning: Scoring failed. The score on this train-test partition for these parameters will be set to nan. Details: \n",
      "Traceback (most recent call last):\n",
      "  File \"C:\\Users\\elror\\anaconda3\\lib\\site-packages\\sklearn\\model_selection\\_validation.py\", line 761, in _score\n",
      "    scores = scorer(estimator, X_test, y_test)\n",
      "  File \"C:\\Users\\elror\\anaconda3\\lib\\site-packages\\sklearn\\metrics\\_scorer.py\", line 103, in __call__\n",
      "    score = scorer._score(cached_call, estimator, *args, **kwargs)\n",
      "  File \"C:\\Users\\elror\\anaconda3\\lib\\site-packages\\sklearn\\metrics\\_scorer.py\", line 381, in _score\n",
      "    return self._sign * self._score_func(y, y_pred, **self._kwargs)\n",
      "  File \"C:\\Users\\elror\\anaconda3\\lib\\site-packages\\sklearn\\metrics\\_ranking.py\", line 567, in roc_auc_score\n",
      "    return _average_binary_score(\n",
      "  File \"C:\\Users\\elror\\anaconda3\\lib\\site-packages\\sklearn\\metrics\\_base.py\", line 75, in _average_binary_score\n",
      "    return binary_metric(y_true, y_score, sample_weight=sample_weight)\n",
      "  File \"C:\\Users\\elror\\anaconda3\\lib\\site-packages\\sklearn\\metrics\\_ranking.py\", line 337, in _binary_roc_auc_score\n",
      "    raise ValueError(\n",
      "ValueError: Only one class present in y_true. ROC AUC score is not defined in that case.\n",
      "\n",
      "  warnings.warn(\n",
      "C:\\Users\\elror\\anaconda3\\lib\\site-packages\\sklearn\\model_selection\\_validation.py:770: UserWarning: Scoring failed. The score on this train-test partition for these parameters will be set to nan. Details: \n",
      "Traceback (most recent call last):\n",
      "  File \"C:\\Users\\elror\\anaconda3\\lib\\site-packages\\sklearn\\model_selection\\_validation.py\", line 761, in _score\n",
      "    scores = scorer(estimator, X_test, y_test)\n",
      "  File \"C:\\Users\\elror\\anaconda3\\lib\\site-packages\\sklearn\\metrics\\_scorer.py\", line 103, in __call__\n",
      "    score = scorer._score(cached_call, estimator, *args, **kwargs)\n",
      "  File \"C:\\Users\\elror\\anaconda3\\lib\\site-packages\\sklearn\\metrics\\_scorer.py\", line 381, in _score\n",
      "    return self._sign * self._score_func(y, y_pred, **self._kwargs)\n",
      "  File \"C:\\Users\\elror\\anaconda3\\lib\\site-packages\\sklearn\\metrics\\_ranking.py\", line 567, in roc_auc_score\n",
      "    return _average_binary_score(\n",
      "  File \"C:\\Users\\elror\\anaconda3\\lib\\site-packages\\sklearn\\metrics\\_base.py\", line 75, in _average_binary_score\n",
      "    return binary_metric(y_true, y_score, sample_weight=sample_weight)\n",
      "  File \"C:\\Users\\elror\\anaconda3\\lib\\site-packages\\sklearn\\metrics\\_ranking.py\", line 337, in _binary_roc_auc_score\n",
      "    raise ValueError(\n",
      "ValueError: Only one class present in y_true. ROC AUC score is not defined in that case.\n",
      "\n",
      "  warnings.warn(\n",
      "C:\\Users\\elror\\anaconda3\\lib\\site-packages\\sklearn\\model_selection\\_validation.py:770: UserWarning: Scoring failed. The score on this train-test partition for these parameters will be set to nan. Details: \n",
      "Traceback (most recent call last):\n",
      "  File \"C:\\Users\\elror\\anaconda3\\lib\\site-packages\\sklearn\\model_selection\\_validation.py\", line 761, in _score\n",
      "    scores = scorer(estimator, X_test, y_test)\n",
      "  File \"C:\\Users\\elror\\anaconda3\\lib\\site-packages\\sklearn\\metrics\\_scorer.py\", line 103, in __call__\n",
      "    score = scorer._score(cached_call, estimator, *args, **kwargs)\n",
      "  File \"C:\\Users\\elror\\anaconda3\\lib\\site-packages\\sklearn\\metrics\\_scorer.py\", line 381, in _score\n",
      "    return self._sign * self._score_func(y, y_pred, **self._kwargs)\n",
      "  File \"C:\\Users\\elror\\anaconda3\\lib\\site-packages\\sklearn\\metrics\\_ranking.py\", line 567, in roc_auc_score\n",
      "    return _average_binary_score(\n",
      "  File \"C:\\Users\\elror\\anaconda3\\lib\\site-packages\\sklearn\\metrics\\_base.py\", line 75, in _average_binary_score\n",
      "    return binary_metric(y_true, y_score, sample_weight=sample_weight)\n",
      "  File \"C:\\Users\\elror\\anaconda3\\lib\\site-packages\\sklearn\\metrics\\_ranking.py\", line 337, in _binary_roc_auc_score\n",
      "    raise ValueError(\n",
      "ValueError: Only one class present in y_true. ROC AUC score is not defined in that case.\n",
      "\n",
      "  warnings.warn(\n",
      "C:\\Users\\elror\\anaconda3\\lib\\site-packages\\sklearn\\model_selection\\_validation.py:770: UserWarning: Scoring failed. The score on this train-test partition for these parameters will be set to nan. Details: \n",
      "Traceback (most recent call last):\n",
      "  File \"C:\\Users\\elror\\anaconda3\\lib\\site-packages\\sklearn\\model_selection\\_validation.py\", line 761, in _score\n",
      "    scores = scorer(estimator, X_test, y_test)\n",
      "  File \"C:\\Users\\elror\\anaconda3\\lib\\site-packages\\sklearn\\metrics\\_scorer.py\", line 103, in __call__\n",
      "    score = scorer._score(cached_call, estimator, *args, **kwargs)\n",
      "  File \"C:\\Users\\elror\\anaconda3\\lib\\site-packages\\sklearn\\metrics\\_scorer.py\", line 381, in _score\n",
      "    return self._sign * self._score_func(y, y_pred, **self._kwargs)\n",
      "  File \"C:\\Users\\elror\\anaconda3\\lib\\site-packages\\sklearn\\metrics\\_ranking.py\", line 567, in roc_auc_score\n",
      "    return _average_binary_score(\n",
      "  File \"C:\\Users\\elror\\anaconda3\\lib\\site-packages\\sklearn\\metrics\\_base.py\", line 75, in _average_binary_score\n",
      "    return binary_metric(y_true, y_score, sample_weight=sample_weight)\n",
      "  File \"C:\\Users\\elror\\anaconda3\\lib\\site-packages\\sklearn\\metrics\\_ranking.py\", line 337, in _binary_roc_auc_score\n",
      "    raise ValueError(\n",
      "ValueError: Only one class present in y_true. ROC AUC score is not defined in that case.\n",
      "\n",
      "  warnings.warn(\n",
      "C:\\Users\\elror\\anaconda3\\lib\\site-packages\\sklearn\\model_selection\\_validation.py:770: UserWarning: Scoring failed. The score on this train-test partition for these parameters will be set to nan. Details: \n",
      "Traceback (most recent call last):\n",
      "  File \"C:\\Users\\elror\\anaconda3\\lib\\site-packages\\sklearn\\model_selection\\_validation.py\", line 761, in _score\n",
      "    scores = scorer(estimator, X_test, y_test)\n",
      "  File \"C:\\Users\\elror\\anaconda3\\lib\\site-packages\\sklearn\\metrics\\_scorer.py\", line 103, in __call__\n",
      "    score = scorer._score(cached_call, estimator, *args, **kwargs)\n",
      "  File \"C:\\Users\\elror\\anaconda3\\lib\\site-packages\\sklearn\\metrics\\_scorer.py\", line 381, in _score\n",
      "    return self._sign * self._score_func(y, y_pred, **self._kwargs)\n",
      "  File \"C:\\Users\\elror\\anaconda3\\lib\\site-packages\\sklearn\\metrics\\_ranking.py\", line 567, in roc_auc_score\n",
      "    return _average_binary_score(\n",
      "  File \"C:\\Users\\elror\\anaconda3\\lib\\site-packages\\sklearn\\metrics\\_base.py\", line 75, in _average_binary_score\n",
      "    return binary_metric(y_true, y_score, sample_weight=sample_weight)\n",
      "  File \"C:\\Users\\elror\\anaconda3\\lib\\site-packages\\sklearn\\metrics\\_ranking.py\", line 337, in _binary_roc_auc_score\n",
      "    raise ValueError(\n",
      "ValueError: Only one class present in y_true. ROC AUC score is not defined in that case.\n",
      "\n",
      "  warnings.warn(\n",
      "C:\\Users\\elror\\anaconda3\\lib\\site-packages\\sklearn\\model_selection\\_validation.py:770: UserWarning: Scoring failed. The score on this train-test partition for these parameters will be set to nan. Details: \n",
      "Traceback (most recent call last):\n",
      "  File \"C:\\Users\\elror\\anaconda3\\lib\\site-packages\\sklearn\\model_selection\\_validation.py\", line 761, in _score\n",
      "    scores = scorer(estimator, X_test, y_test)\n",
      "  File \"C:\\Users\\elror\\anaconda3\\lib\\site-packages\\sklearn\\metrics\\_scorer.py\", line 103, in __call__\n",
      "    score = scorer._score(cached_call, estimator, *args, **kwargs)\n",
      "  File \"C:\\Users\\elror\\anaconda3\\lib\\site-packages\\sklearn\\metrics\\_scorer.py\", line 381, in _score\n",
      "    return self._sign * self._score_func(y, y_pred, **self._kwargs)\n",
      "  File \"C:\\Users\\elror\\anaconda3\\lib\\site-packages\\sklearn\\metrics\\_ranking.py\", line 567, in roc_auc_score\n",
      "    return _average_binary_score(\n",
      "  File \"C:\\Users\\elror\\anaconda3\\lib\\site-packages\\sklearn\\metrics\\_base.py\", line 75, in _average_binary_score\n",
      "    return binary_metric(y_true, y_score, sample_weight=sample_weight)\n",
      "  File \"C:\\Users\\elror\\anaconda3\\lib\\site-packages\\sklearn\\metrics\\_ranking.py\", line 337, in _binary_roc_auc_score\n",
      "    raise ValueError(\n",
      "ValueError: Only one class present in y_true. ROC AUC score is not defined in that case.\n",
      "\n",
      "  warnings.warn(\n",
      "C:\\Users\\elror\\anaconda3\\lib\\site-packages\\sklearn\\model_selection\\_validation.py:770: UserWarning: Scoring failed. The score on this train-test partition for these parameters will be set to nan. Details: \n",
      "Traceback (most recent call last):\n",
      "  File \"C:\\Users\\elror\\anaconda3\\lib\\site-packages\\sklearn\\model_selection\\_validation.py\", line 761, in _score\n",
      "    scores = scorer(estimator, X_test, y_test)\n",
      "  File \"C:\\Users\\elror\\anaconda3\\lib\\site-packages\\sklearn\\metrics\\_scorer.py\", line 103, in __call__\n",
      "    score = scorer._score(cached_call, estimator, *args, **kwargs)\n",
      "  File \"C:\\Users\\elror\\anaconda3\\lib\\site-packages\\sklearn\\metrics\\_scorer.py\", line 381, in _score\n",
      "    return self._sign * self._score_func(y, y_pred, **self._kwargs)\n",
      "  File \"C:\\Users\\elror\\anaconda3\\lib\\site-packages\\sklearn\\metrics\\_ranking.py\", line 567, in roc_auc_score\n",
      "    return _average_binary_score(\n",
      "  File \"C:\\Users\\elror\\anaconda3\\lib\\site-packages\\sklearn\\metrics\\_base.py\", line 75, in _average_binary_score\n",
      "    return binary_metric(y_true, y_score, sample_weight=sample_weight)\n",
      "  File \"C:\\Users\\elror\\anaconda3\\lib\\site-packages\\sklearn\\metrics\\_ranking.py\", line 337, in _binary_roc_auc_score\n",
      "    raise ValueError(\n",
      "ValueError: Only one class present in y_true. ROC AUC score is not defined in that case.\n",
      "\n",
      "  warnings.warn(\n",
      "C:\\Users\\elror\\anaconda3\\lib\\site-packages\\sklearn\\model_selection\\_validation.py:770: UserWarning: Scoring failed. The score on this train-test partition for these parameters will be set to nan. Details: \n",
      "Traceback (most recent call last):\n",
      "  File \"C:\\Users\\elror\\anaconda3\\lib\\site-packages\\sklearn\\model_selection\\_validation.py\", line 761, in _score\n",
      "    scores = scorer(estimator, X_test, y_test)\n",
      "  File \"C:\\Users\\elror\\anaconda3\\lib\\site-packages\\sklearn\\metrics\\_scorer.py\", line 103, in __call__\n",
      "    score = scorer._score(cached_call, estimator, *args, **kwargs)\n",
      "  File \"C:\\Users\\elror\\anaconda3\\lib\\site-packages\\sklearn\\metrics\\_scorer.py\", line 381, in _score\n",
      "    return self._sign * self._score_func(y, y_pred, **self._kwargs)\n",
      "  File \"C:\\Users\\elror\\anaconda3\\lib\\site-packages\\sklearn\\metrics\\_ranking.py\", line 567, in roc_auc_score\n",
      "    return _average_binary_score(\n",
      "  File \"C:\\Users\\elror\\anaconda3\\lib\\site-packages\\sklearn\\metrics\\_base.py\", line 75, in _average_binary_score\n",
      "    return binary_metric(y_true, y_score, sample_weight=sample_weight)\n",
      "  File \"C:\\Users\\elror\\anaconda3\\lib\\site-packages\\sklearn\\metrics\\_ranking.py\", line 337, in _binary_roc_auc_score\n",
      "    raise ValueError(\n",
      "ValueError: Only one class present in y_true. ROC AUC score is not defined in that case.\n",
      "\n",
      "  warnings.warn(\n"
     ]
    },
    {
     "data": {
      "text/plain": [
       "nan"
      ]
     },
     "execution_count": 64,
     "metadata": {},
     "output_type": "execute_result"
    }
   ],
   "source": [
    "# calculate cross-validated AUC\n",
    "from sklearn.model_selection import cross_val_score\n",
    "cross_val_score(logreg, X, y, cv=10, scoring='roc_auc').mean()"
   ]
  },
  {
   "cell_type": "markdown",
   "metadata": {},
   "source": [
    "Random forest feature selection"
   ]
  },
  {
   "cell_type": "code",
   "execution_count": 23,
   "metadata": {},
   "outputs": [
    {
     "data": {
      "text/html": [
       "<style>#sk-container-id-2 {color: black;background-color: white;}#sk-container-id-2 pre{padding: 0;}#sk-container-id-2 div.sk-toggleable {background-color: white;}#sk-container-id-2 label.sk-toggleable__label {cursor: pointer;display: block;width: 100%;margin-bottom: 0;padding: 0.3em;box-sizing: border-box;text-align: center;}#sk-container-id-2 label.sk-toggleable__label-arrow:before {content: \"▸\";float: left;margin-right: 0.25em;color: #696969;}#sk-container-id-2 label.sk-toggleable__label-arrow:hover:before {color: black;}#sk-container-id-2 div.sk-estimator:hover label.sk-toggleable__label-arrow:before {color: black;}#sk-container-id-2 div.sk-toggleable__content {max-height: 0;max-width: 0;overflow: hidden;text-align: left;background-color: #f0f8ff;}#sk-container-id-2 div.sk-toggleable__content pre {margin: 0.2em;color: black;border-radius: 0.25em;background-color: #f0f8ff;}#sk-container-id-2 input.sk-toggleable__control:checked~div.sk-toggleable__content {max-height: 200px;max-width: 100%;overflow: auto;}#sk-container-id-2 input.sk-toggleable__control:checked~label.sk-toggleable__label-arrow:before {content: \"▾\";}#sk-container-id-2 div.sk-estimator input.sk-toggleable__control:checked~label.sk-toggleable__label {background-color: #d4ebff;}#sk-container-id-2 div.sk-label input.sk-toggleable__control:checked~label.sk-toggleable__label {background-color: #d4ebff;}#sk-container-id-2 input.sk-hidden--visually {border: 0;clip: rect(1px 1px 1px 1px);clip: rect(1px, 1px, 1px, 1px);height: 1px;margin: -1px;overflow: hidden;padding: 0;position: absolute;width: 1px;}#sk-container-id-2 div.sk-estimator {font-family: monospace;background-color: #f0f8ff;border: 1px dotted black;border-radius: 0.25em;box-sizing: border-box;margin-bottom: 0.5em;}#sk-container-id-2 div.sk-estimator:hover {background-color: #d4ebff;}#sk-container-id-2 div.sk-parallel-item::after {content: \"\";width: 100%;border-bottom: 1px solid gray;flex-grow: 1;}#sk-container-id-2 div.sk-label:hover label.sk-toggleable__label {background-color: #d4ebff;}#sk-container-id-2 div.sk-serial::before {content: \"\";position: absolute;border-left: 1px solid gray;box-sizing: border-box;top: 0;bottom: 0;left: 50%;z-index: 0;}#sk-container-id-2 div.sk-serial {display: flex;flex-direction: column;align-items: center;background-color: white;padding-right: 0.2em;padding-left: 0.2em;position: relative;}#sk-container-id-2 div.sk-item {position: relative;z-index: 1;}#sk-container-id-2 div.sk-parallel {display: flex;align-items: stretch;justify-content: center;background-color: white;position: relative;}#sk-container-id-2 div.sk-item::before, #sk-container-id-2 div.sk-parallel-item::before {content: \"\";position: absolute;border-left: 1px solid gray;box-sizing: border-box;top: 0;bottom: 0;left: 50%;z-index: -1;}#sk-container-id-2 div.sk-parallel-item {display: flex;flex-direction: column;z-index: 1;position: relative;background-color: white;}#sk-container-id-2 div.sk-parallel-item:first-child::after {align-self: flex-end;width: 50%;}#sk-container-id-2 div.sk-parallel-item:last-child::after {align-self: flex-start;width: 50%;}#sk-container-id-2 div.sk-parallel-item:only-child::after {width: 0;}#sk-container-id-2 div.sk-dashed-wrapped {border: 1px dashed gray;margin: 0 0.4em 0.5em 0.4em;box-sizing: border-box;padding-bottom: 0.4em;background-color: white;}#sk-container-id-2 div.sk-label label {font-family: monospace;font-weight: bold;display: inline-block;line-height: 1.2em;}#sk-container-id-2 div.sk-label-container {text-align: center;}#sk-container-id-2 div.sk-container {/* jupyter's `normalize.less` sets `[hidden] { display: none; }` but bootstrap.min.css set `[hidden] { display: none !important; }` so we also need the `!important` here to be able to override the default hidden behavior on the sphinx rendered scikit-learn.org. See: https://github.com/scikit-learn/scikit-learn/issues/21755 */display: inline-block !important;position: relative;}#sk-container-id-2 div.sk-text-repr-fallback {display: none;}</style><div id=\"sk-container-id-2\" class=\"sk-top-container\"><div class=\"sk-text-repr-fallback\"><pre>RandomForestClassifier(n_estimators=500, n_jobs=-1)</pre><b>In a Jupyter environment, please rerun this cell to show the HTML representation or trust the notebook. <br />On GitHub, the HTML representation is unable to render, please try loading this page with nbviewer.org.</b></div><div class=\"sk-container\" hidden><div class=\"sk-item\"><div class=\"sk-estimator sk-toggleable\"><input class=\"sk-toggleable__control sk-hidden--visually\" id=\"sk-estimator-id-2\" type=\"checkbox\" checked><label for=\"sk-estimator-id-2\" class=\"sk-toggleable__label sk-toggleable__label-arrow\">RandomForestClassifier</label><div class=\"sk-toggleable__content\"><pre>RandomForestClassifier(n_estimators=500, n_jobs=-1)</pre></div></div></div></div></div>"
      ],
      "text/plain": [
       "RandomForestClassifier(n_estimators=500, n_jobs=-1)"
      ]
     },
     "execution_count": 23,
     "metadata": {},
     "output_type": "execute_result"
    }
   ],
   "source": [
    "from sklearn.ensemble import RandomForestClassifier\n",
    "import matplotlib.pyplot as plt\n",
    "\n",
    "clf = RandomForestClassifier(n_estimators = 500, n_jobs = -1)\n",
    "clf.fit(data[train_cols], df_accounts['Pregnant'])"
   ]
  },
  {
   "cell_type": "code",
   "execution_count": 24,
   "metadata": {},
   "outputs": [
    {
     "data": {
      "image/png": "[encoded data removed]",
      "text/plain": [
       "<Figure size 1500x1000 with 1 Axes>"
      ]
     },
     "metadata": {},
     "output_type": "display_data"
    }
   ],
   "source": [
    "# sort the features by importance\n",
    "sorted_idx = clf.feature_importances_\n",
    "df_features = pd.DataFrame({\"Feature\": train_cols})\n",
    "df_features['Importance'] = sorted_idx\n",
    "\n",
    "df_features = df_features.sort_values(by=['Importance'], ascending=[True]) # sort my most important feature\n",
    "ax = df_features.plot(kind='barh', title =\"Classification Feature Importance\", figsize=(15, 10), legend=False, fontsize=12)\n",
    "ax.set_xlabel(\"Importance\", fontsize=12)\n",
    "ax.set_yticklabels(df_features['Feature'])\n",
    "plt.show()"
   ]
  },
  {
   "cell_type": "markdown",
   "metadata": {},
   "source": [
    "We can see that the purchase of Folic Acid is a much better predictor of a customer pregnancy, surprisingly more so than an intrest in Prenatal Yoga (presumably more expectant mother use folic acid than take up yoga)---this information could be used to accurately target the advertisment of baby products"
   ]
  },
  {
   "cell_type": "code",
   "execution_count": null,
   "metadata": {},
   "outputs": [],
   "source": []
  }
 ],
 "metadata": {
  "anaconda-cloud": {},
  "kernelspec": {
   "display_name": "Python 3 (ipykernel)",
   "language": "python",
   "name": "python3"
  },
  "language_info": {
   "codemirror_mode": {
    "name": "ipython",
    "version": 3
   },
   "file_extension": ".py",
   "mimetype": "text/x-python",
   "name": "python",
   "nbconvert_exporter": "python",
   "pygments_lexer": "ipython3",
   "version": "3.9.13"
  }
 },
 "nbformat": 4,
 "nbformat_minor": 1
}
